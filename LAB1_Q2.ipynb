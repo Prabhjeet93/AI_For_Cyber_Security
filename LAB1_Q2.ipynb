{
 "cells": [
  {
   "cell_type": "code",
   "execution_count": 1,
   "id": "0fe618b6",
   "metadata": {},
   "outputs": [
    {
     "name": "stdout",
     "output_type": "stream",
     "text": [
      "15.455000000000002\n"
     ]
    }
   ],
   "source": [
    "#Imports\n",
    "import numpy as np \n",
    "from sklearn.linear_model import LinearRegression\n",
    "\n",
    "\n",
    "#Data\n",
    "#X:Training DataSet\n",
    "#y:Vector of weights,to be associated with input dataset\n",
    "X= np.array([[3],[5],[7],[9],[11]]).reshape(-1,1)\n",
    "y=[8.0,9.1,10.3,11.4,12.6]\n",
    "\n",
    "\n",
    "#ML Model\n",
    "lreg_model=LinearRegression ( )\n",
    "\n",
    "\n",
    "#Training\n",
    "lreg_model.fit (X,y)\n",
    "\n",
    "#Testing\n",
    "#New unseen data\n",
    "new_data=np.array ([[16]])\n",
    "\n",
    "#Performance\n",
    "print(lreg_model.predict(new_data)[0] )\n"
   ]
  },
  {
   "cell_type": "code",
   "execution_count": 2,
   "id": "04e0f1da",
   "metadata": {
    "scrolled": false
   },
   "outputs": [
    {
     "name": "stdout",
     "output_type": "stream",
     "text": [
      "Variable           Type                Data/Info\n",
      "------------------------------------------------\n",
      "LinearRegression   ABCMeta             <class 'sklearn.linear_mo<...>._base.LinearRegression'>\n",
      "X                  ndarray             5x1: 5 elems, type `int32`, 20 bytes\n",
      "lreg_model         LinearRegression    LinearRegression()\n",
      "new_data           ndarray             1x1: 1 elems, type `int32`, 4 bytes\n",
      "np                 module              <module 'numpy' from 'C:\\<...>ges\\\\numpy\\\\__init__.py'>\n",
      "y                  list                n=5\n"
     ]
    }
   ],
   "source": [
    "%whos"
   ]
  },
  {
   "cell_type": "code",
   "execution_count": 6,
   "id": "c0ff3b9c",
   "metadata": {},
   "outputs": [
    {
     "data": {
      "text/plain": [
       "[8.0, 9.1, 10.3, 11.4, 12.6]"
      ]
     },
     "execution_count": 6,
     "metadata": {},
     "output_type": "execute_result"
    }
   ],
   "source": [
    "y"
   ]
  },
  {
   "cell_type": "code",
   "execution_count": null,
   "id": "7df44774",
   "metadata": {},
   "outputs": [],
   "source": []
  }
 ],
 "metadata": {
  "kernelspec": {
   "display_name": "Python 3 (ipykernel)",
   "language": "python",
   "name": "python3"
  },
  "language_info": {
   "codemirror_mode": {
    "name": "ipython",
    "version": 3
   },
   "file_extension": ".py",
   "mimetype": "text/x-python",
   "name": "python",
   "nbconvert_exporter": "python",
   "pygments_lexer": "ipython3",
   "version": "3.9.12"
  }
 },
 "nbformat": 4,
 "nbformat_minor": 5
}
