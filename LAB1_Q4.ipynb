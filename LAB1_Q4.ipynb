{
 "cells": [
  {
   "cell_type": "code",
   "execution_count": 1,
   "id": "617d0070",
   "metadata": {},
   "outputs": [
    {
     "name": "stdout",
     "output_type": "stream",
     "text": [
      "0.9166666666666666\n"
     ]
    }
   ],
   "source": [
    "# Step1: Imports\n",
    "from sklearn.datasets import load_iris\n",
    "from sklearn.linear_model import LogisticRegression\n",
    "from sklearn.model_selection import train_test_split\n",
    "\n",
    "#Step2a Dataset\n",
    "X, y = load_iris(return_X_y=True)\n",
    "#Step2b\n",
    "training_samples, testing_samples, training_targets, testing_targets = train_test_split(\n",
    "         X, y, test_size=0.4, random_state=0)\n",
    "\n",
    "#Step3 Model Declaration\n",
    "clfr = LogisticRegression(random_state=0)\n",
    "\n",
    "#Step4 Training the Model\n",
    "clfr.fit(training_samples, training_targets)\n",
    "\n",
    "#Step5 Testing the Model\n",
    "acc=clfr.score(testing_samples, testing_targets)\n",
    "\n",
    "#Step6 Print Results\n",
    "print(acc)"
   ]
  },
  {
   "cell_type": "code",
   "execution_count": 2,
   "id": "19b90af7",
   "metadata": {
    "scrolled": false
   },
   "outputs": [
    {
     "name": "stdout",
     "output_type": "stream",
     "text": [
      "Variable             Type                  Data/Info\n",
      "----------------------------------------------------\n",
      "LogisticRegression   type                  <class 'sklearn.linear_mo<...>stic.LogisticRegression'>\n",
      "X                    ndarray               150x4: 600 elems, type `float64`, 4800 bytes\n",
      "acc                  float64               0.9166666666666666\n",
      "clfr                 LogisticRegression    LogisticRegression(random_state=0)\n",
      "load_iris            function              <function load_iris at 0x0000029B873FD4C0>\n",
      "testing_samples      ndarray               60x4: 240 elems, type `float64`, 1920 bytes\n",
      "testing_targets      ndarray               60: 60 elems, type `int32`, 240 bytes\n",
      "train_test_split     function              <function train_test_split at 0x0000029B87664CA0>\n",
      "training_samples     ndarray               90x4: 360 elems, type `float64`, 2880 bytes\n",
      "training_targets     ndarray               90: 90 elems, type `int32`, 360 bytes\n",
      "y                    ndarray               150: 150 elems, type `int32`, 600 bytes\n"
     ]
    }
   ],
   "source": [
    "%whos"
   ]
  },
  {
   "cell_type": "code",
   "execution_count": null,
   "id": "47961f7e",
   "metadata": {},
   "outputs": [],
   "source": []
  }
 ],
 "metadata": {
  "kernelspec": {
   "display_name": "Python 3 (ipykernel)",
   "language": "python",
   "name": "python3"
  },
  "language_info": {
   "codemirror_mode": {
    "name": "ipython",
    "version": 3
   },
   "file_extension": ".py",
   "mimetype": "text/x-python",
   "name": "python",
   "nbconvert_exporter": "python",
   "pygments_lexer": "ipython3",
   "version": "3.9.12"
  }
 },
 "nbformat": 4,
 "nbformat_minor": 5
}
